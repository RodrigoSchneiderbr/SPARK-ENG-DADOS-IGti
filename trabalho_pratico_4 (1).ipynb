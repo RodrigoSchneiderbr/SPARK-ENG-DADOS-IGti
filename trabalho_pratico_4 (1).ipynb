{
 "cells": [
  {
   "cell_type": "code",
   "execution_count": 1,
   "id": "127f78ae",
   "metadata": {},
   "outputs": [],
   "source": [
    "import findspark\n",
    "findspark.init()"
   ]
  },
  {
   "cell_type": "code",
   "execution_count": 2,
   "id": "0c4d8950",
   "metadata": {},
   "outputs": [],
   "source": [
    "from pyspark.sql.types import *\n",
    "from pyspark.sql.functions import *"
   ]
  },
  {
   "cell_type": "code",
   "execution_count": 3,
   "id": "82703082",
   "metadata": {},
   "outputs": [],
   "source": [
    "from pyspark.sql import SparkSession"
   ]
  },
  {
   "cell_type": "code",
   "execution_count": 9,
   "id": "bcd86899",
   "metadata": {},
   "outputs": [],
   "source": [
    "spark = (\n",
    "    SparkSession\n",
    "    .builder\n",
    "    .config(\"spark.driver.memory\", '8g')\n",
    "    .enableHiveSupport()\n",
    "    .getOrCreate()\n",
    ")"
   ]
  },
  {
   "cell_type": "code",
   "execution_count": 15,
   "id": "6caadc5a",
   "metadata": {},
   "outputs": [],
   "source": [
    "df_enem_2019 = spark.read.csv(\"C:/Users/rodri/Desktop/engenharia de dados/bootcamp 2-engenheiro de dados/modulo_4/enem_2019/DADOS/MICRODADOS_ENEM_2019.csv\", sep=';', encoding =\"latin1\", header = True)"
   ]
  },
  {
   "cell_type": "code",
   "execution_count": 12,
   "id": "89a93f9a",
   "metadata": {},
   "outputs": [
    {
     "data": {
      "text/plain": [
       "['NU_INSCRICAO',\n",
       " 'NU_ANO',\n",
       " 'CO_MUNICIPIO_RESIDENCIA',\n",
       " 'NO_MUNICIPIO_RESIDENCIA',\n",
       " 'CO_UF_RESIDENCIA',\n",
       " 'SG_UF_RESIDENCIA',\n",
       " 'NU_IDADE',\n",
       " 'TP_SEXO',\n",
       " 'TP_ESTADO_CIVIL',\n",
       " 'TP_COR_RACA',\n",
       " 'TP_NACIONALIDADE',\n",
       " 'CO_MUNICIPIO_NASCIMENTO',\n",
       " 'NO_MUNICIPIO_NASCIMENTO',\n",
       " 'CO_UF_NASCIMENTO',\n",
       " 'SG_UF_NASCIMENTO',\n",
       " 'TP_ST_CONCLUSAO',\n",
       " 'TP_ANO_CONCLUIU',\n",
       " 'TP_ESCOLA',\n",
       " 'TP_ENSINO',\n",
       " 'IN_TREINEIRO',\n",
       " 'CO_ESCOLA',\n",
       " 'CO_MUNICIPIO_ESC',\n",
       " 'NO_MUNICIPIO_ESC',\n",
       " 'CO_UF_ESC',\n",
       " 'SG_UF_ESC',\n",
       " 'TP_DEPENDENCIA_ADM_ESC',\n",
       " 'TP_LOCALIZACAO_ESC',\n",
       " 'TP_SIT_FUNC_ESC',\n",
       " 'IN_BAIXA_VISAO',\n",
       " 'IN_CEGUEIRA',\n",
       " 'IN_SURDEZ',\n",
       " 'IN_DEFICIENCIA_AUDITIVA',\n",
       " 'IN_SURDO_CEGUEIRA',\n",
       " 'IN_DEFICIENCIA_FISICA',\n",
       " 'IN_DEFICIENCIA_MENTAL',\n",
       " 'IN_DEFICIT_ATENCAO',\n",
       " 'IN_DISLEXIA',\n",
       " 'IN_DISCALCULIA',\n",
       " 'IN_AUTISMO',\n",
       " 'IN_VISAO_MONOCULAR',\n",
       " 'IN_OUTRA_DEF',\n",
       " 'IN_GESTANTE',\n",
       " 'IN_LACTANTE',\n",
       " 'IN_IDOSO',\n",
       " 'IN_ESTUDA_CLASSE_HOSPITALAR',\n",
       " 'IN_SEM_RECURSO',\n",
       " 'IN_BRAILLE',\n",
       " 'IN_AMPLIADA_24',\n",
       " 'IN_AMPLIADA_18',\n",
       " 'IN_LEDOR',\n",
       " 'IN_ACESSO',\n",
       " 'IN_TRANSCRICAO',\n",
       " 'IN_LIBRAS',\n",
       " 'IN_TEMPO_ADICIONAL',\n",
       " 'IN_LEITURA_LABIAL',\n",
       " 'IN_MESA_CADEIRA_RODAS',\n",
       " 'IN_MESA_CADEIRA_SEPARADA',\n",
       " 'IN_APOIO_PERNA',\n",
       " 'IN_GUIA_INTERPRETE',\n",
       " 'IN_COMPUTADOR',\n",
       " 'IN_CADEIRA_ESPECIAL',\n",
       " 'IN_CADEIRA_CANHOTO',\n",
       " 'IN_CADEIRA_ACOLCHOADA',\n",
       " 'IN_PROVA_DEITADO',\n",
       " 'IN_MOBILIARIO_OBESO',\n",
       " 'IN_LAMINA_OVERLAY',\n",
       " 'IN_PROTETOR_AURICULAR',\n",
       " 'IN_MEDIDOR_GLICOSE',\n",
       " 'IN_MAQUINA_BRAILE',\n",
       " 'IN_SOROBAN',\n",
       " 'IN_MARCA_PASSO',\n",
       " 'IN_SONDA',\n",
       " 'IN_MEDICAMENTOS',\n",
       " 'IN_SALA_INDIVIDUAL',\n",
       " 'IN_SALA_ESPECIAL',\n",
       " 'IN_SALA_ACOMPANHANTE',\n",
       " 'IN_MOBILIARIO_ESPECIFICO',\n",
       " 'IN_MATERIAL_ESPECIFICO',\n",
       " 'IN_NOME_SOCIAL',\n",
       " 'CO_MUNICIPIO_PROVA',\n",
       " 'NO_MUNICIPIO_PROVA',\n",
       " 'CO_UF_PROVA',\n",
       " 'SG_UF_PROVA',\n",
       " 'TP_PRESENCA_CN',\n",
       " 'TP_PRESENCA_CH',\n",
       " 'TP_PRESENCA_LC',\n",
       " 'TP_PRESENCA_MT',\n",
       " 'CO_PROVA_CN',\n",
       " 'CO_PROVA_CH',\n",
       " 'CO_PROVA_LC',\n",
       " 'CO_PROVA_MT',\n",
       " 'NU_NOTA_CN',\n",
       " 'NU_NOTA_CH',\n",
       " 'NU_NOTA_LC',\n",
       " 'NU_NOTA_MT',\n",
       " 'TX_RESPOSTAS_CN',\n",
       " 'TX_RESPOSTAS_CH',\n",
       " 'TX_RESPOSTAS_LC',\n",
       " 'TX_RESPOSTAS_MT',\n",
       " 'TP_LINGUA',\n",
       " 'TX_GABARITO_CN',\n",
       " 'TX_GABARITO_CH',\n",
       " 'TX_GABARITO_LC',\n",
       " 'TX_GABARITO_MT',\n",
       " 'TP_STATUS_REDACAO',\n",
       " 'NU_NOTA_COMP1',\n",
       " 'NU_NOTA_COMP2',\n",
       " 'NU_NOTA_COMP3',\n",
       " 'NU_NOTA_COMP4',\n",
       " 'NU_NOTA_COMP5',\n",
       " 'NU_NOTA_REDACAO',\n",
       " 'Q001',\n",
       " 'Q002',\n",
       " 'Q003',\n",
       " 'Q004',\n",
       " 'Q005',\n",
       " 'Q006',\n",
       " 'Q007',\n",
       " 'Q008',\n",
       " 'Q009',\n",
       " 'Q010',\n",
       " 'Q011',\n",
       " 'Q012',\n",
       " 'Q013',\n",
       " 'Q014',\n",
       " 'Q015',\n",
       " 'Q016',\n",
       " 'Q017',\n",
       " 'Q018',\n",
       " 'Q019',\n",
       " 'Q020',\n",
       " 'Q021',\n",
       " 'Q022',\n",
       " 'Q023',\n",
       " 'Q024',\n",
       " 'Q025']"
      ]
     },
     "execution_count": 12,
     "metadata": {},
     "output_type": "execute_result"
    }
   ],
   "source": [
    "df_enem_2019.columns"
   ]
  },
  {
   "cell_type": "code",
   "execution_count": 16,
   "id": "25191879",
   "metadata": {},
   "outputs": [],
   "source": [
    "df_prova_2019 = spark.read.csv(\"C:/Users/rodri/Desktop/engenharia de dados/bootcamp 2-engenheiro de dados/modulo_4/enem_2019/DADOS/ITENS_PROVA_2019.csv\", sep=';', encoding =\"latin1\", header = True)"
   ]
  },
  {
   "cell_type": "code",
   "execution_count": 24,
   "id": "0b34c716",
   "metadata": {},
   "outputs": [
    {
     "data": {
      "text/html": [
       "<div>\n",
       "<style scoped>\n",
       "    .dataframe tbody tr th:only-of-type {\n",
       "        vertical-align: middle;\n",
       "    }\n",
       "\n",
       "    .dataframe tbody tr th {\n",
       "        vertical-align: top;\n",
       "    }\n",
       "\n",
       "    .dataframe thead th {\n",
       "        text-align: right;\n",
       "    }\n",
       "</style>\n",
       "<table border=\"1\" class=\"dataframe\">\n",
       "  <thead>\n",
       "    <tr style=\"text-align: right;\">\n",
       "      <th></th>\n",
       "      <th>CO_POSICAO</th>\n",
       "      <th>SG_AREA</th>\n",
       "      <th>CO_ITEM</th>\n",
       "      <th>TX_GABARITO</th>\n",
       "      <th>CO_HABILIDADE</th>\n",
       "      <th>TX_COR</th>\n",
       "      <th>CO_PROVA</th>\n",
       "      <th>TP_LINGUA</th>\n",
       "      <th>IN_ITEM_ADAPTADO</th>\n",
       "    </tr>\n",
       "  </thead>\n",
       "  <tbody>\n",
       "    <tr>\n",
       "      <th>0</th>\n",
       "      <td>1</td>\n",
       "      <td>LC</td>\n",
       "      <td>55166</td>\n",
       "      <td>B</td>\n",
       "      <td>7</td>\n",
       "      <td>Azul</td>\n",
       "      <td>511</td>\n",
       "      <td>0</td>\n",
       "      <td>0</td>\n",
       "    </tr>\n",
       "    <tr>\n",
       "      <th>1</th>\n",
       "      <td>2</td>\n",
       "      <td>LC</td>\n",
       "      <td>54110</td>\n",
       "      <td>D</td>\n",
       "      <td>7</td>\n",
       "      <td>Azul</td>\n",
       "      <td>511</td>\n",
       "      <td>0</td>\n",
       "      <td>0</td>\n",
       "    </tr>\n",
       "    <tr>\n",
       "      <th>2</th>\n",
       "      <td>3</td>\n",
       "      <td>LC</td>\n",
       "      <td>23564</td>\n",
       "      <td>A</td>\n",
       "      <td>6</td>\n",
       "      <td>Azul</td>\n",
       "      <td>511</td>\n",
       "      <td>0</td>\n",
       "      <td>0</td>\n",
       "    </tr>\n",
       "    <tr>\n",
       "      <th>3</th>\n",
       "      <td>4</td>\n",
       "      <td>LC</td>\n",
       "      <td>31954</td>\n",
       "      <td>B</td>\n",
       "      <td>8</td>\n",
       "      <td>Azul</td>\n",
       "      <td>511</td>\n",
       "      <td>0</td>\n",
       "      <td>0</td>\n",
       "    </tr>\n",
       "    <tr>\n",
       "      <th>4</th>\n",
       "      <td>5</td>\n",
       "      <td>LC</td>\n",
       "      <td>118180</td>\n",
       "      <td>E</td>\n",
       "      <td>5</td>\n",
       "      <td>Azul</td>\n",
       "      <td>511</td>\n",
       "      <td>0</td>\n",
       "      <td>0</td>\n",
       "    </tr>\n",
       "    <tr>\n",
       "      <th>...</th>\n",
       "      <td>...</td>\n",
       "      <td>...</td>\n",
       "      <td>...</td>\n",
       "      <td>...</td>\n",
       "      <td>...</td>\n",
       "      <td>...</td>\n",
       "      <td>...</td>\n",
       "      <td>...</td>\n",
       "      <td>...</td>\n",
       "    </tr>\n",
       "    <tr>\n",
       "      <th>1940</th>\n",
       "      <td>176</td>\n",
       "      <td>MT</td>\n",
       "      <td>63359</td>\n",
       "      <td>B</td>\n",
       "      <td>9</td>\n",
       "      <td>Rosa</td>\n",
       "      <td>558</td>\n",
       "      <td>None</td>\n",
       "      <td>0</td>\n",
       "    </tr>\n",
       "    <tr>\n",
       "      <th>1941</th>\n",
       "      <td>177</td>\n",
       "      <td>MT</td>\n",
       "      <td>15171</td>\n",
       "      <td>D</td>\n",
       "      <td>25</td>\n",
       "      <td>Rosa</td>\n",
       "      <td>558</td>\n",
       "      <td>None</td>\n",
       "      <td>0</td>\n",
       "    </tr>\n",
       "    <tr>\n",
       "      <th>1942</th>\n",
       "      <td>178</td>\n",
       "      <td>MT</td>\n",
       "      <td>97573</td>\n",
       "      <td>E</td>\n",
       "      <td>10</td>\n",
       "      <td>Rosa</td>\n",
       "      <td>558</td>\n",
       "      <td>None</td>\n",
       "      <td>0</td>\n",
       "    </tr>\n",
       "    <tr>\n",
       "      <th>1943</th>\n",
       "      <td>179</td>\n",
       "      <td>MT</td>\n",
       "      <td>25163</td>\n",
       "      <td>D</td>\n",
       "      <td>25</td>\n",
       "      <td>Rosa</td>\n",
       "      <td>558</td>\n",
       "      <td>None</td>\n",
       "      <td>0</td>\n",
       "    </tr>\n",
       "    <tr>\n",
       "      <th>1944</th>\n",
       "      <td>180</td>\n",
       "      <td>MT</td>\n",
       "      <td>81332</td>\n",
       "      <td>E</td>\n",
       "      <td>9</td>\n",
       "      <td>Rosa</td>\n",
       "      <td>558</td>\n",
       "      <td>None</td>\n",
       "      <td>0</td>\n",
       "    </tr>\n",
       "  </tbody>\n",
       "</table>\n",
       "<p>1945 rows × 9 columns</p>\n",
       "</div>"
      ],
      "text/plain": [
       "     CO_POSICAO SG_AREA CO_ITEM TX_GABARITO CO_HABILIDADE TX_COR CO_PROVA  \\\n",
       "0             1      LC   55166           B             7   Azul      511   \n",
       "1             2      LC   54110           D             7   Azul      511   \n",
       "2             3      LC   23564           A             6   Azul      511   \n",
       "3             4      LC   31954           B             8   Azul      511   \n",
       "4             5      LC  118180           E             5   Azul      511   \n",
       "...         ...     ...     ...         ...           ...    ...      ...   \n",
       "1940        176      MT   63359           B             9   Rosa      558   \n",
       "1941        177      MT   15171           D            25   Rosa      558   \n",
       "1942        178      MT   97573           E            10   Rosa      558   \n",
       "1943        179      MT   25163           D            25   Rosa      558   \n",
       "1944        180      MT   81332           E             9   Rosa      558   \n",
       "\n",
       "     TP_LINGUA IN_ITEM_ADAPTADO  \n",
       "0            0                0  \n",
       "1            0                0  \n",
       "2            0                0  \n",
       "3            0                0  \n",
       "4            0                0  \n",
       "...        ...              ...  \n",
       "1940      None                0  \n",
       "1941      None                0  \n",
       "1942      None                0  \n",
       "1943      None                0  \n",
       "1944      None                0  \n",
       "\n",
       "[1945 rows x 9 columns]"
      ]
     },
     "execution_count": 24,
     "metadata": {},
     "output_type": "execute_result"
    }
   ],
   "source": [
    "df_prova_2019.toPandas()"
   ]
  },
  {
   "cell_type": "code",
   "execution_count": 23,
   "id": "718a4c27",
   "metadata": {},
   "outputs": [
    {
     "name": "stdout",
     "output_type": "stream",
     "text": [
      "+----------------+\n",
      "|SG_UF_RESIDENCIA|\n",
      "+----------------+\n",
      "|              SP|\n",
      "|              BA|\n",
      "|              CE|\n",
      "|              TO|\n",
      "|              MG|\n",
      "|              MT|\n",
      "|              BA|\n",
      "|              SP|\n",
      "|              SP|\n",
      "|              SP|\n",
      "|              SP|\n",
      "|              RN|\n",
      "|              PR|\n",
      "|              CE|\n",
      "|              MG|\n",
      "|              PE|\n",
      "|              BA|\n",
      "|              PE|\n",
      "|              MA|\n",
      "|              BA|\n",
      "+----------------+\n",
      "only showing top 20 rows\n",
      "\n"
     ]
    }
   ],
   "source": [
    "df_enem_2019.select(\"SG_UF_RESIDENCIA\").show()"
   ]
  },
  {
   "cell_type": "code",
   "execution_count": 19,
   "id": "ce759383",
   "metadata": {},
   "outputs": [],
   "source": [
    "df_enem_2019_MG = df_enem_2019.filter(col(\"SG_UF_RESIDENCIA\") == \"MG\")"
   ]
  },
  {
   "cell_type": "code",
   "execution_count": 20,
   "id": "cb787c3b",
   "metadata": {},
   "outputs": [
    {
     "name": "stdout",
     "output_type": "stream",
     "text": [
      "+----------------+\n",
      "|        media LC|\n",
      "+----------------+\n",
      "|531.215550047545|\n",
      "+----------------+\n",
      "\n"
     ]
    }
   ],
   "source": [
    "df_enem_2019_MG.agg(mean(\"NU_NOTA_LC\").alias(\"media LC\")).show()\n"
   ]
  },
  {
   "cell_type": "code",
   "execution_count": 21,
   "id": "868c7e62",
   "metadata": {},
   "outputs": [
    {
     "name": "stdout",
     "output_type": "stream",
     "text": [
      "+------------------+\n",
      "|          media CN|\n",
      "+------------------+\n",
      "|492.33336490027233|\n",
      "+------------------+\n",
      "\n",
      "+-----------------+\n",
      "|         media CH|\n",
      "+-----------------+\n",
      "|520.8427384359934|\n",
      "+-----------------+\n",
      "\n"
     ]
    }
   ],
   "source": [
    "df_enem_2019_MG.agg(mean(\"NU_NOTA_CN\").alias(\"media CN\")).show()\n",
    "df_enem_2019_MG.agg(mean(\"NU_NOTA_CH\").alias(\"media CH\")).show()\n"
   ]
  },
  {
   "cell_type": "code",
   "execution_count": 23,
   "id": "3c455e7f",
   "metadata": {},
   "outputs": [
    {
     "name": "stdout",
     "output_type": "stream",
     "text": [
      "+-----------------+\n",
      "|         media MT|\n",
      "+-----------------+\n",
      "|546.7962076512168|\n",
      "+-----------------+\n",
      "\n"
     ]
    }
   ],
   "source": [
    "df_enem_2019_MG.agg(mean(\"NU_NOTA_MT\").alias(\"media MT\")).show()"
   ]
  },
  {
   "cell_type": "code",
   "execution_count": 24,
   "id": "99432a7b",
   "metadata": {},
   "outputs": [
    {
     "name": "stdout",
     "output_type": "stream",
     "text": [
      "+------------------+\n",
      "|          media TP|\n",
      "+------------------+\n",
      "|0.4252341824767673|\n",
      "+------------------+\n",
      "\n"
     ]
    }
   ],
   "source": [
    "df_enem_2019_MG.agg(mean(\"TP_LINGUA\").alias(\"media TP\")).show()"
   ]
  },
  {
   "cell_type": "code",
   "execution_count": 27,
   "id": "c8573a67",
   "metadata": {},
   "outputs": [],
   "source": [
    "df_questao_3 = df_enem_2019_MG.filter(col(\"TP_SEXO\") == \"F\")"
   ]
  },
  {
   "cell_type": "code",
   "execution_count": 28,
   "id": "651280e2",
   "metadata": {},
   "outputs": [
    {
     "name": "stdout",
     "output_type": "stream",
     "text": [
      "+-----------------+\n",
      "| nota ch feminino|\n",
      "+-----------------+\n",
      "|515.1270983575312|\n",
      "+-----------------+\n",
      "\n"
     ]
    }
   ],
   "source": [
    "df_questao_3.agg(mean(\"NU_NOTA_CH\").alias(\"nota ch feminino\")).show()"
   ]
  },
  {
   "cell_type": "code",
   "execution_count": 27,
   "id": "c6faa051",
   "metadata": {},
   "outputs": [],
   "source": [
    "df_questao_4 = df_enem_2019_MG.filter(col(\"TP_SEXO\") == \"M\")"
   ]
  },
  {
   "cell_type": "code",
   "execution_count": 28,
   "id": "af3acb9c",
   "metadata": {},
   "outputs": [
    {
     "name": "stdout",
     "output_type": "stream",
     "text": [
      "+-----------------+\n",
      "|nota ch masculino|\n",
      "+-----------------+\n",
      "|529.6982704731437|\n",
      "+-----------------+\n",
      "\n"
     ]
    }
   ],
   "source": [
    "df_questao_4.agg(mean(\"NU_NOTA_CH\").alias(\"nota ch masculino\")).show()"
   ]
  },
  {
   "cell_type": "code",
   "execution_count": 25,
   "id": "4fbf15b6",
   "metadata": {},
   "outputs": [
    {
     "data": {
      "text/html": [
       "<div>\n",
       "<style scoped>\n",
       "    .dataframe tbody tr th:only-of-type {\n",
       "        vertical-align: middle;\n",
       "    }\n",
       "\n",
       "    .dataframe tbody tr th {\n",
       "        vertical-align: top;\n",
       "    }\n",
       "\n",
       "    .dataframe thead th {\n",
       "        text-align: right;\n",
       "    }\n",
       "</style>\n",
       "<table border=\"1\" class=\"dataframe\">\n",
       "  <thead>\n",
       "    <tr style=\"text-align: right;\">\n",
       "      <th></th>\n",
       "      <th>NU_INSCRICAO</th>\n",
       "      <th>NU_ANO</th>\n",
       "      <th>CO_MUNICIPIO_RESIDENCIA</th>\n",
       "      <th>NO_MUNICIPIO_RESIDENCIA</th>\n",
       "      <th>CO_UF_RESIDENCIA</th>\n",
       "      <th>SG_UF_RESIDENCIA</th>\n",
       "      <th>NU_IDADE</th>\n",
       "      <th>TP_SEXO</th>\n",
       "      <th>TP_ESTADO_CIVIL</th>\n",
       "      <th>TP_COR_RACA</th>\n",
       "      <th>...</th>\n",
       "      <th>Q016</th>\n",
       "      <th>Q017</th>\n",
       "      <th>Q018</th>\n",
       "      <th>Q019</th>\n",
       "      <th>Q020</th>\n",
       "      <th>Q021</th>\n",
       "      <th>Q022</th>\n",
       "      <th>Q023</th>\n",
       "      <th>Q024</th>\n",
       "      <th>Q025</th>\n",
       "    </tr>\n",
       "  </thead>\n",
       "  <tbody>\n",
       "    <tr>\n",
       "      <th>0</th>\n",
       "      <td>190001237824</td>\n",
       "      <td>2019</td>\n",
       "      <td>3156700</td>\n",
       "      <td>Sabará</td>\n",
       "      <td>31</td>\n",
       "      <td>MG</td>\n",
       "      <td>18</td>\n",
       "      <td>F</td>\n",
       "      <td>1</td>\n",
       "      <td>1</td>\n",
       "      <td>...</td>\n",
       "      <td>B</td>\n",
       "      <td>A</td>\n",
       "      <td>B</td>\n",
       "      <td>C</td>\n",
       "      <td>B</td>\n",
       "      <td>B</td>\n",
       "      <td>E</td>\n",
       "      <td>B</td>\n",
       "      <td>B</td>\n",
       "      <td>B</td>\n",
       "    </tr>\n",
       "    <tr>\n",
       "      <th>1</th>\n",
       "      <td>190001244995</td>\n",
       "      <td>2019</td>\n",
       "      <td>3156700</td>\n",
       "      <td>Sabará</td>\n",
       "      <td>31</td>\n",
       "      <td>MG</td>\n",
       "      <td>33</td>\n",
       "      <td>F</td>\n",
       "      <td>1</td>\n",
       "      <td>2</td>\n",
       "      <td>...</td>\n",
       "      <td>A</td>\n",
       "      <td>A</td>\n",
       "      <td>A</td>\n",
       "      <td>C</td>\n",
       "      <td>B</td>\n",
       "      <td>A</td>\n",
       "      <td>C</td>\n",
       "      <td>B</td>\n",
       "      <td>B</td>\n",
       "      <td>B</td>\n",
       "    </tr>\n",
       "    <tr>\n",
       "      <th>2</th>\n",
       "      <td>190001259249</td>\n",
       "      <td>2019</td>\n",
       "      <td>3156700</td>\n",
       "      <td>Sabará</td>\n",
       "      <td>31</td>\n",
       "      <td>MG</td>\n",
       "      <td>20</td>\n",
       "      <td>F</td>\n",
       "      <td>0</td>\n",
       "      <td>2</td>\n",
       "      <td>...</td>\n",
       "      <td>B</td>\n",
       "      <td>A</td>\n",
       "      <td>A</td>\n",
       "      <td>B</td>\n",
       "      <td>B</td>\n",
       "      <td>A</td>\n",
       "      <td>C</td>\n",
       "      <td>B</td>\n",
       "      <td>B</td>\n",
       "      <td>B</td>\n",
       "    </tr>\n",
       "    <tr>\n",
       "      <th>3</th>\n",
       "      <td>190001248557</td>\n",
       "      <td>2019</td>\n",
       "      <td>3156700</td>\n",
       "      <td>Sabará</td>\n",
       "      <td>31</td>\n",
       "      <td>MG</td>\n",
       "      <td>19</td>\n",
       "      <td>M</td>\n",
       "      <td>1</td>\n",
       "      <td>3</td>\n",
       "      <td>...</td>\n",
       "      <td>B</td>\n",
       "      <td>A</td>\n",
       "      <td>A</td>\n",
       "      <td>C</td>\n",
       "      <td>A</td>\n",
       "      <td>B</td>\n",
       "      <td>D</td>\n",
       "      <td>A</td>\n",
       "      <td>A</td>\n",
       "      <td>B</td>\n",
       "    </tr>\n",
       "    <tr>\n",
       "      <th>4</th>\n",
       "      <td>190001255768</td>\n",
       "      <td>2019</td>\n",
       "      <td>3156700</td>\n",
       "      <td>Sabará</td>\n",
       "      <td>31</td>\n",
       "      <td>MG</td>\n",
       "      <td>20</td>\n",
       "      <td>M</td>\n",
       "      <td>1</td>\n",
       "      <td>3</td>\n",
       "      <td>...</td>\n",
       "      <td>B</td>\n",
       "      <td>A</td>\n",
       "      <td>A</td>\n",
       "      <td>B</td>\n",
       "      <td>A</td>\n",
       "      <td>A</td>\n",
       "      <td>C</td>\n",
       "      <td>B</td>\n",
       "      <td>A</td>\n",
       "      <td>B</td>\n",
       "    </tr>\n",
       "    <tr>\n",
       "      <th>5</th>\n",
       "      <td>190001259327</td>\n",
       "      <td>2019</td>\n",
       "      <td>3156700</td>\n",
       "      <td>Sabará</td>\n",
       "      <td>31</td>\n",
       "      <td>MG</td>\n",
       "      <td>21</td>\n",
       "      <td>M</td>\n",
       "      <td>1</td>\n",
       "      <td>3</td>\n",
       "      <td>...</td>\n",
       "      <td>B</td>\n",
       "      <td>A</td>\n",
       "      <td>A</td>\n",
       "      <td>B</td>\n",
       "      <td>A</td>\n",
       "      <td>B</td>\n",
       "      <td>C</td>\n",
       "      <td>B</td>\n",
       "      <td>B</td>\n",
       "      <td>B</td>\n",
       "    </tr>\n",
       "    <tr>\n",
       "      <th>6</th>\n",
       "      <td>190001245022</td>\n",
       "      <td>2019</td>\n",
       "      <td>3156700</td>\n",
       "      <td>Sabará</td>\n",
       "      <td>31</td>\n",
       "      <td>MG</td>\n",
       "      <td>21</td>\n",
       "      <td>M</td>\n",
       "      <td>1</td>\n",
       "      <td>1</td>\n",
       "      <td>...</td>\n",
       "      <td>B</td>\n",
       "      <td>A</td>\n",
       "      <td>B</td>\n",
       "      <td>D</td>\n",
       "      <td>A</td>\n",
       "      <td>A</td>\n",
       "      <td>E</td>\n",
       "      <td>B</td>\n",
       "      <td>B</td>\n",
       "      <td>B</td>\n",
       "    </tr>\n",
       "    <tr>\n",
       "      <th>7</th>\n",
       "      <td>190001252284</td>\n",
       "      <td>2019</td>\n",
       "      <td>3156700</td>\n",
       "      <td>Sabará</td>\n",
       "      <td>31</td>\n",
       "      <td>MG</td>\n",
       "      <td>19</td>\n",
       "      <td>F</td>\n",
       "      <td>1</td>\n",
       "      <td>2</td>\n",
       "      <td>...</td>\n",
       "      <td>A</td>\n",
       "      <td>A</td>\n",
       "      <td>A</td>\n",
       "      <td>B</td>\n",
       "      <td>B</td>\n",
       "      <td>A</td>\n",
       "      <td>C</td>\n",
       "      <td>A</td>\n",
       "      <td>B</td>\n",
       "      <td>B</td>\n",
       "    </tr>\n",
       "    <tr>\n",
       "      <th>8</th>\n",
       "      <td>190001262903</td>\n",
       "      <td>2019</td>\n",
       "      <td>3156700</td>\n",
       "      <td>Sabará</td>\n",
       "      <td>31</td>\n",
       "      <td>MG</td>\n",
       "      <td>23</td>\n",
       "      <td>F</td>\n",
       "      <td>1</td>\n",
       "      <td>3</td>\n",
       "      <td>...</td>\n",
       "      <td>A</td>\n",
       "      <td>A</td>\n",
       "      <td>A</td>\n",
       "      <td>B</td>\n",
       "      <td>A</td>\n",
       "      <td>A</td>\n",
       "      <td>B</td>\n",
       "      <td>A</td>\n",
       "      <td>B</td>\n",
       "      <td>B</td>\n",
       "    </tr>\n",
       "    <tr>\n",
       "      <th>9</th>\n",
       "      <td>190001270167</td>\n",
       "      <td>2019</td>\n",
       "      <td>3156700</td>\n",
       "      <td>Sabará</td>\n",
       "      <td>31</td>\n",
       "      <td>MG</td>\n",
       "      <td>24</td>\n",
       "      <td>F</td>\n",
       "      <td>1</td>\n",
       "      <td>2</td>\n",
       "      <td>...</td>\n",
       "      <td>A</td>\n",
       "      <td>A</td>\n",
       "      <td>A</td>\n",
       "      <td>B</td>\n",
       "      <td>A</td>\n",
       "      <td>A</td>\n",
       "      <td>B</td>\n",
       "      <td>A</td>\n",
       "      <td>B</td>\n",
       "      <td>B</td>\n",
       "    </tr>\n",
       "  </tbody>\n",
       "</table>\n",
       "<p>10 rows × 136 columns</p>\n",
       "</div>"
      ],
      "text/plain": [
       "   NU_INSCRICAO NU_ANO CO_MUNICIPIO_RESIDENCIA NO_MUNICIPIO_RESIDENCIA  \\\n",
       "0  190001237824   2019                 3156700                  Sabará   \n",
       "1  190001244995   2019                 3156700                  Sabará   \n",
       "2  190001259249   2019                 3156700                  Sabará   \n",
       "3  190001248557   2019                 3156700                  Sabará   \n",
       "4  190001255768   2019                 3156700                  Sabará   \n",
       "5  190001259327   2019                 3156700                  Sabará   \n",
       "6  190001245022   2019                 3156700                  Sabará   \n",
       "7  190001252284   2019                 3156700                  Sabará   \n",
       "8  190001262903   2019                 3156700                  Sabará   \n",
       "9  190001270167   2019                 3156700                  Sabará   \n",
       "\n",
       "  CO_UF_RESIDENCIA SG_UF_RESIDENCIA NU_IDADE TP_SEXO TP_ESTADO_CIVIL  \\\n",
       "0               31               MG       18       F               1   \n",
       "1               31               MG       33       F               1   \n",
       "2               31               MG       20       F               0   \n",
       "3               31               MG       19       M               1   \n",
       "4               31               MG       20       M               1   \n",
       "5               31               MG       21       M               1   \n",
       "6               31               MG       21       M               1   \n",
       "7               31               MG       19       F               1   \n",
       "8               31               MG       23       F               1   \n",
       "9               31               MG       24       F               1   \n",
       "\n",
       "  TP_COR_RACA  ... Q016 Q017 Q018 Q019 Q020 Q021 Q022 Q023 Q024 Q025  \n",
       "0           1  ...    B    A    B    C    B    B    E    B    B    B  \n",
       "1           2  ...    A    A    A    C    B    A    C    B    B    B  \n",
       "2           2  ...    B    A    A    B    B    A    C    B    B    B  \n",
       "3           3  ...    B    A    A    C    A    B    D    A    A    B  \n",
       "4           3  ...    B    A    A    B    A    A    C    B    A    B  \n",
       "5           3  ...    B    A    A    B    A    B    C    B    B    B  \n",
       "6           1  ...    B    A    B    D    A    A    E    B    B    B  \n",
       "7           2  ...    A    A    A    B    B    A    C    A    B    B  \n",
       "8           3  ...    A    A    A    B    A    A    B    A    B    B  \n",
       "9           2  ...    A    A    A    B    A    A    B    A    B    B  \n",
       "\n",
       "[10 rows x 136 columns]"
      ]
     },
     "execution_count": 25,
     "metadata": {},
     "output_type": "execute_result"
    }
   ],
   "source": [
    "df_enem_2019_MG.filter(col(\"NO_MUNICIPIO_RESIDENCIA\") == \"Sabará\").limit(10).toPandas()"
   ]
  },
  {
   "cell_type": "code",
   "execution_count": 29,
   "id": "8a11d646",
   "metadata": {},
   "outputs": [],
   "source": [
    "df_questao_5 = df_questao_3.filter(col(\"NO_MUNICIPIO_RESIDENCIA\") == \"Montes Claros\")"
   ]
  },
  {
   "cell_type": "code",
   "execution_count": 38,
   "id": "7eb738a1",
   "metadata": {},
   "outputs": [
    {
     "name": "stdout",
     "output_type": "stream",
     "text": [
      "+-----------------+\n",
      "|         media MT|\n",
      "+-----------------+\n",
      "|525.4776724249903|\n",
      "+-----------------+\n",
      "\n"
     ]
    }
   ],
   "source": [
    "df_questao_5.agg(mean(\"NU_NOTA_MT\").alias(\"media MT\")).show()"
   ]
  },
  {
   "cell_type": "code",
   "execution_count": 30,
   "id": "a805d7c0",
   "metadata": {},
   "outputs": [
    {
     "name": "stdout",
     "output_type": "stream",
     "text": [
      "+-----------------------+\n",
      "|NO_MUNICIPIO_RESIDENCIA|\n",
      "+-----------------------+\n",
      "|               Contagem|\n",
      "|             Uberlândia|\n",
      "|             Esmeraldas|\n",
      "|   Conselheiro Lafaiete|\n",
      "|   São Joaquim de Bicas|\n",
      "|                  Araxá|\n",
      "|          Montes Claros|\n",
      "|                Salinas|\n",
      "|         Belo Horizonte|\n",
      "|            São Gotardo|\n",
      "|                Nanuque|\n",
      "|   Governador Valadares|\n",
      "|             Patrocínio|\n",
      "|                Extrema|\n",
      "|              Turmalina|\n",
      "|   São João das Missões|\n",
      "|         Belo Horizonte|\n",
      "|         Belo Horizonte|\n",
      "|         Belo Horizonte|\n",
      "|                 Passos|\n",
      "|               Contagem|\n",
      "|               Varginha|\n",
      "|                 Sabará|\n",
      "|                  Betim|\n",
      "|               Varginha|\n",
      "|                Uberaba|\n",
      "|         Belo Horizonte|\n",
      "|         Lagoa da Prata|\n",
      "|         Belo Horizonte|\n",
      "|          Montes Claros|\n",
      "|                Itabira|\n",
      "|             Uberlândia|\n",
      "|                Ibirité|\n",
      "|           Juiz de Fora|\n",
      "|         Belo Horizonte|\n",
      "|          Pará de Minas|\n",
      "|                Sarzedo|\n",
      "|         Belo Horizonte|\n",
      "|             Leopoldina|\n",
      "|                  Betim|\n",
      "+-----------------------+\n",
      "only showing top 40 rows\n",
      "\n"
     ]
    }
   ],
   "source": [
    "df_enem_2019_MG.select(\"NO_MUNICIPIO_RESIDENCIA\").show(40)"
   ]
  },
  {
   "cell_type": "code",
   "execution_count": 31,
   "id": "a65ac3ac",
   "metadata": {},
   "outputs": [],
   "source": [
    "df_questao_6 = df_enem_2019_MG.filter(col(\"NO_MUNICIPIO_RESIDENCIA\")==\"Sabará\")"
   ]
  },
  {
   "cell_type": "code",
   "execution_count": 32,
   "id": "6eba20d2",
   "metadata": {},
   "outputs": [
    {
     "name": "stdout",
     "output_type": "stream",
     "text": [
      "+----------+\n",
      "|NU_NOTA_MT|\n",
      "+----------+\n",
      "|     370.7|\n",
      "|     428.8|\n",
      "|      null|\n",
      "|     669.3|\n",
      "|     516.6|\n",
      "|     393.7|\n",
      "|     843.3|\n",
      "|     429.5|\n",
      "|      null|\n",
      "|      null|\n",
      "|     442.7|\n",
      "|      null|\n",
      "|     802.3|\n",
      "|     491.4|\n",
      "|      null|\n",
      "|      null|\n",
      "|      null|\n",
      "|     439.3|\n",
      "|     459.3|\n",
      "|     454.4|\n",
      "+----------+\n",
      "only showing top 20 rows\n",
      "\n"
     ]
    }
   ],
   "source": [
    "df_questao_6.select(\"NU_NOTA_MT\").show()"
   ]
  },
  {
   "cell_type": "code",
   "execution_count": 33,
   "id": "3fe31d6a",
   "metadata": {},
   "outputs": [],
   "source": [
    "df_questao_6_TV = df_questao_6.filter(col(\"Q021\") == \"B\")"
   ]
  },
  {
   "cell_type": "code",
   "execution_count": 34,
   "id": "ac26809f",
   "metadata": {},
   "outputs": [
    {
     "name": "stdout",
     "output_type": "stream",
     "text": [
      "+-----------------+\n",
      "|       NOTA MEDIA|\n",
      "+-----------------+\n",
      "|543.2927556818182|\n",
      "+-----------------+\n",
      "\n"
     ]
    }
   ],
   "source": [
    "df_questao_6_TV.agg(mean(\"NU_NOTA_MT\").alias(\"NOTA MEDIA\")).show()"
   ]
  },
  {
   "cell_type": "code",
   "execution_count": 35,
   "id": "2693c894",
   "metadata": {},
   "outputs": [],
   "source": [
    "df_questao_8 = df_enem_2019_MG.filter(col(\"Q002\")== \"G\")"
   ]
  },
  {
   "cell_type": "code",
   "execution_count": 36,
   "id": "61dc6d1d",
   "metadata": {},
   "outputs": [
    {
     "name": "stdout",
     "output_type": "stream",
     "text": [
      "+-----------------+\n",
      "|       NOTA MEDIA|\n",
      "+-----------------+\n",
      "|620.0070620709871|\n",
      "+-----------------+\n",
      "\n"
     ]
    }
   ],
   "source": [
    "df_questao_8.agg(mean(\"NU_NOTA_MT\").alias(\"NOTA MEDIA\")).show()"
   ]
  },
  {
   "cell_type": "code",
   "execution_count": 37,
   "id": "eecccd88",
   "metadata": {},
   "outputs": [],
   "source": [
    "df_questao_7 = df_enem_2019_MG.filter(col(\"Q016\")== \"C\")"
   ]
  },
  {
   "cell_type": "code",
   "execution_count": 38,
   "id": "e0289983",
   "metadata": {},
   "outputs": [
    {
     "name": "stdout",
     "output_type": "stream",
     "text": [
      "+-----------------+\n",
      "|            media|\n",
      "+-----------------+\n",
      "|557.2765986394558|\n",
      "+-----------------+\n",
      "\n"
     ]
    }
   ],
   "source": [
    "df_questao_7.agg(mean(\"NU_NOTA_CH\").alias(\"media\")).show()"
   ]
  },
  {
   "cell_type": "code",
   "execution_count": 96,
   "id": "c6da15b1",
   "metadata": {},
   "outputs": [],
   "source": [
    "df_questao_9 = df_enem_2019_MG.filter((col(\"NO_MUNICIPIO_RESIDENCIA\")==\"Belo Horizonte\") | (col(\"NO_MUNICIPIO_RESIDENCIA\") ==\"Conselheiro Lafaiete\"))"
   ]
  },
  {
   "cell_type": "code",
   "execution_count": 97,
   "id": "876abb56",
   "metadata": {},
   "outputs": [
    {
     "name": "stdout",
     "output_type": "stream",
     "text": [
      "+-----------------+\n",
      "|            media|\n",
      "+-----------------+\n",
      "|578.0392265100102|\n",
      "+-----------------+\n",
      "\n"
     ]
    }
   ],
   "source": [
    "df_questao_9.agg(mean(\"NU_NOTA_MT\").alias(\"media\")).show()"
   ]
  },
  {
   "cell_type": "code",
   "execution_count": 98,
   "id": "475b7431",
   "metadata": {},
   "outputs": [],
   "source": [
    "df_questao_10 = df_enem_2019_MG.filter(col(\"Q005\")== 1)"
   ]
  },
  {
   "cell_type": "code",
   "execution_count": 100,
   "id": "729bba5f",
   "metadata": {},
   "outputs": [
    {
     "name": "stdout",
     "output_type": "stream",
     "text": [
      "+-----------------+\n",
      "|            media|\n",
      "+-----------------+\n",
      "|534.4573388609219|\n",
      "+-----------------+\n",
      "\n"
     ]
    }
   ],
   "source": [
    "df_questao_10.agg(mean(\"NU_NOTA_CH\").alias(\"media\")).show()"
   ]
  },
  {
   "cell_type": "code",
   "execution_count": 101,
   "id": "1e11b25f",
   "metadata": {},
   "outputs": [],
   "source": [
    "df_questao_11 = df_enem_2019_MG.filter(col(\"Q001\")==\"G\")"
   ]
  },
  {
   "cell_type": "code",
   "execution_count": 102,
   "id": "0b0056ab",
   "metadata": {},
   "outputs": [],
   "source": [
    "df_questao_11_b = df_questao_11.filter(col(\"Q006\") ==\"M\")"
   ]
  },
  {
   "cell_type": "code",
   "execution_count": 103,
   "id": "e757f91a",
   "metadata": {},
   "outputs": [
    {
     "name": "stdout",
     "output_type": "stream",
     "text": [
      "+-----------------+\n",
      "|            media|\n",
      "+-----------------+\n",
      "|586.7231663685153|\n",
      "+-----------------+\n",
      "\n"
     ]
    }
   ],
   "source": [
    "df_questao_11_b.agg(mean(\"NU_NOTA_CH\").alias(\"media\")).show()"
   ]
  },
  {
   "cell_type": "code",
   "execution_count": 104,
   "id": "c91ca5fc",
   "metadata": {},
   "outputs": [],
   "source": [
    "df_questao_12 = df_enem_2019_MG.filter(col(\"TP_SEXO\") ==\"F\")"
   ]
  },
  {
   "cell_type": "code",
   "execution_count": 106,
   "id": "3957737e",
   "metadata": {},
   "outputs": [],
   "source": [
    "df_questao_12_b = df_questao_12.filter((col(\"NO_MUNICIPIO_RESIDENCIA\")==\"Lavras\") & (col(\"TP_LINGUA\")==1)) "
   ]
  },
  {
   "cell_type": "code",
   "execution_count": 107,
   "id": "bf799509",
   "metadata": {},
   "outputs": [
    {
     "name": "stdout",
     "output_type": "stream",
     "text": [
      "+------------------+\n",
      "|             MEDIA|\n",
      "+------------------+\n",
      "|510.80950782997763|\n",
      "+------------------+\n",
      "\n"
     ]
    }
   ],
   "source": [
    "df_questao_12_b.agg(mean(\"NU_NOTA_MT\").alias(\"MEDIA\")).show()"
   ]
  },
  {
   "cell_type": "code",
   "execution_count": 108,
   "id": "7698341c",
   "metadata": {},
   "outputs": [],
   "source": [
    "df_questao_13 = df_enem_2019_MG.filter((col(\"NO_MUNICIPIO_RESIDENCIA\")==\"Ouro Preto\") & (col(\"TP_SEXO\")==\"M\"))"
   ]
  },
  {
   "cell_type": "code",
   "execution_count": 109,
   "id": "2a8ad43b",
   "metadata": {},
   "outputs": [
    {
     "name": "stdout",
     "output_type": "stream",
     "text": [
      "+-----------------+\n",
      "|            Media|\n",
      "+-----------------+\n",
      "|555.0832520325204|\n",
      "+-----------------+\n",
      "\n"
     ]
    }
   ],
   "source": [
    "df_questao_13.agg(mean(\"NU_NOTA_MT\").alias(\"Media\")).show()"
   ]
  },
  {
   "cell_type": "code",
   "execution_count": 110,
   "id": "a97ac97a",
   "metadata": {},
   "outputs": [],
   "source": [
    "df_questao_14 = df_enem_2019_MG.filter(col(\"IN_SURDEZ\")==1)"
   ]
  },
  {
   "cell_type": "code",
   "execution_count": 111,
   "id": "38ccb52b",
   "metadata": {},
   "outputs": [
    {
     "name": "stdout",
     "output_type": "stream",
     "text": [
      "+----------------+\n",
      "|      nota media|\n",
      "+----------------+\n",
      "|435.387962962963|\n",
      "+----------------+\n",
      "\n"
     ]
    }
   ],
   "source": [
    "df_questao_14.agg(mean(\"NU_NOTA_CH\").alias(\"nota media\")).show()"
   ]
  },
  {
   "cell_type": "code",
   "execution_count": 39,
   "id": "e782dc98",
   "metadata": {},
   "outputs": [],
   "source": [
    "df_questao_15 = df_enem_2019_MG.filter((col(\"TP_SEXO\")==\"F\") & (col(\"IN_DISLEXIA\")==1))"
   ]
  },
  {
   "cell_type": "code",
   "execution_count": 40,
   "id": "f1a01892",
   "metadata": {},
   "outputs": [],
   "source": [
    "df_questao_15_B = df_questao_15.filter((col(\"NO_MUNICIPIO_RESIDENCIA\")==\"Belo Horizonte\")|(col(\"NO_MUNICIPIO_RESIDENCIA\")==\"Sabará\")|(col(\"NO_MUNICIPIO_RESIDENCIA\") == \"Nova Lima\")|(col(\"NO_MUNICIPIO_RESIDENCIA\") == \"Betim\"))   "
   ]
  },
  {
   "cell_type": "code",
   "execution_count": 41,
   "id": "932ca88e",
   "metadata": {},
   "outputs": [
    {
     "name": "stdout",
     "output_type": "stream",
     "text": [
      "+-----------------+\n",
      "|            media|\n",
      "+-----------------+\n",
      "|582.1935483870969|\n",
      "+-----------------+\n",
      "\n"
     ]
    }
   ],
   "source": [
    "df_questao_15_B.agg(mean(\"NU_NOTA_MT\").alias(\"media\")).show()"
   ]
  },
  {
   "cell_type": "code",
   "execution_count": null,
   "id": "47ba9fe5",
   "metadata": {},
   "outputs": [],
   "source": []
  }
 ],
 "metadata": {
  "kernelspec": {
   "display_name": "Python 3",
   "language": "python",
   "name": "python3"
  },
  "language_info": {
   "codemirror_mode": {
    "name": "ipython",
    "version": 3
   },
   "file_extension": ".py",
   "mimetype": "text/x-python",
   "name": "python",
   "nbconvert_exporter": "python",
   "pygments_lexer": "ipython3",
   "version": "3.8.8"
  }
 },
 "nbformat": 4,
 "nbformat_minor": 5
}
