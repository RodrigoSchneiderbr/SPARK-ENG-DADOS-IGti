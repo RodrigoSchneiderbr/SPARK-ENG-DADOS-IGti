{
 "cells": [
  {
   "cell_type": "code",
   "execution_count": 1,
   "id": "7861ba9d",
   "metadata": {},
   "outputs": [],
   "source": [
    "import findspark\n",
    "findspark.init()"
   ]
  },
  {
   "cell_type": "code",
   "execution_count": 2,
   "id": "67d2caf8",
   "metadata": {},
   "outputs": [],
   "source": [
    "from pyspark.sql.types import *\n",
    "from pyspark.sql.functions import *\n",
    "from pyspark.sql import functions as FUNC\n",
    "from pyspark.sql import SparkSession"
   ]
  },
  {
   "cell_type": "code",
   "execution_count": 3,
   "id": "b62fa188",
   "metadata": {},
   "outputs": [],
   "source": [
    "spark = (\n",
    "    SparkSession\n",
    "    .builder\n",
    "    .config(\"spark.driver.memory\", '8g')\n",
    "    .enableHiveSupport()\n",
    "    .getOrCreate()\n",
    ")"
   ]
  },
  {
   "cell_type": "code",
   "execution_count": 5,
   "id": "49a54aac",
   "metadata": {},
   "outputs": [],
   "source": [
    "df = spark.read.csv(\"C:/Users/rodri/Downloads/bike-sharing.csv\", sep =',', header = True, encoding = 'latin1')"
   ]
  },
  {
   "cell_type": "code",
   "execution_count": 7,
   "id": "825003cb",
   "metadata": {},
   "outputs": [
    {
     "data": {
      "text/html": [
       "<div>\n",
       "<style scoped>\n",
       "    .dataframe tbody tr th:only-of-type {\n",
       "        vertical-align: middle;\n",
       "    }\n",
       "\n",
       "    .dataframe tbody tr th {\n",
       "        vertical-align: top;\n",
       "    }\n",
       "\n",
       "    .dataframe thead th {\n",
       "        text-align: right;\n",
       "    }\n",
       "</style>\n",
       "<table border=\"1\" class=\"dataframe\">\n",
       "  <thead>\n",
       "    <tr style=\"text-align: right;\">\n",
       "      <th></th>\n",
       "      <th>datetime</th>\n",
       "      <th>rec_id</th>\n",
       "      <th>season</th>\n",
       "      <th>year</th>\n",
       "      <th>month</th>\n",
       "      <th>hour</th>\n",
       "      <th>is_holiday</th>\n",
       "      <th>weekday</th>\n",
       "      <th>is_workingday</th>\n",
       "      <th>weather_condition</th>\n",
       "      <th>temp</th>\n",
       "      <th>atemp</th>\n",
       "      <th>humidity</th>\n",
       "      <th>windspeed</th>\n",
       "      <th>casual</th>\n",
       "      <th>registered</th>\n",
       "      <th>total_count</th>\n",
       "    </tr>\n",
       "  </thead>\n",
       "  <tbody>\n",
       "    <tr>\n",
       "      <th>0</th>\n",
       "      <td>2011-01-01</td>\n",
       "      <td>1</td>\n",
       "      <td>1</td>\n",
       "      <td>0</td>\n",
       "      <td>1</td>\n",
       "      <td>0</td>\n",
       "      <td>0</td>\n",
       "      <td>6</td>\n",
       "      <td>0</td>\n",
       "      <td>1</td>\n",
       "      <td>0.24</td>\n",
       "      <td>0.2879</td>\n",
       "      <td>0.81</td>\n",
       "      <td>0.0</td>\n",
       "      <td>3</td>\n",
       "      <td>13</td>\n",
       "      <td>16</td>\n",
       "    </tr>\n",
       "    <tr>\n",
       "      <th>1</th>\n",
       "      <td>2011-01-01</td>\n",
       "      <td>2</td>\n",
       "      <td>1</td>\n",
       "      <td>0</td>\n",
       "      <td>1</td>\n",
       "      <td>1</td>\n",
       "      <td>0</td>\n",
       "      <td>6</td>\n",
       "      <td>0</td>\n",
       "      <td>1</td>\n",
       "      <td>0.22</td>\n",
       "      <td>0.2727</td>\n",
       "      <td>0.8</td>\n",
       "      <td>0.0</td>\n",
       "      <td>8</td>\n",
       "      <td>32</td>\n",
       "      <td>40</td>\n",
       "    </tr>\n",
       "    <tr>\n",
       "      <th>2</th>\n",
       "      <td>2011-01-01</td>\n",
       "      <td>3</td>\n",
       "      <td>1</td>\n",
       "      <td>0</td>\n",
       "      <td>1</td>\n",
       "      <td>2</td>\n",
       "      <td>0</td>\n",
       "      <td>6</td>\n",
       "      <td>0</td>\n",
       "      <td>1</td>\n",
       "      <td>0.22</td>\n",
       "      <td>0.2727</td>\n",
       "      <td>0.8</td>\n",
       "      <td>0.0</td>\n",
       "      <td>5</td>\n",
       "      <td>27</td>\n",
       "      <td>32</td>\n",
       "    </tr>\n",
       "    <tr>\n",
       "      <th>3</th>\n",
       "      <td>2011-01-01</td>\n",
       "      <td>4</td>\n",
       "      <td>1</td>\n",
       "      <td>0</td>\n",
       "      <td>1</td>\n",
       "      <td>3</td>\n",
       "      <td>0</td>\n",
       "      <td>6</td>\n",
       "      <td>0</td>\n",
       "      <td>1</td>\n",
       "      <td>0.24</td>\n",
       "      <td>0.2879</td>\n",
       "      <td>0.75</td>\n",
       "      <td>0.0</td>\n",
       "      <td>3</td>\n",
       "      <td>10</td>\n",
       "      <td>13</td>\n",
       "    </tr>\n",
       "    <tr>\n",
       "      <th>4</th>\n",
       "      <td>2011-01-01</td>\n",
       "      <td>5</td>\n",
       "      <td>1</td>\n",
       "      <td>0</td>\n",
       "      <td>1</td>\n",
       "      <td>4</td>\n",
       "      <td>0</td>\n",
       "      <td>6</td>\n",
       "      <td>0</td>\n",
       "      <td>1</td>\n",
       "      <td>0.24</td>\n",
       "      <td>0.2879</td>\n",
       "      <td>0.75</td>\n",
       "      <td>0.0</td>\n",
       "      <td>0</td>\n",
       "      <td>1</td>\n",
       "      <td>1</td>\n",
       "    </tr>\n",
       "    <tr>\n",
       "      <th>...</th>\n",
       "      <td>...</td>\n",
       "      <td>...</td>\n",
       "      <td>...</td>\n",
       "      <td>...</td>\n",
       "      <td>...</td>\n",
       "      <td>...</td>\n",
       "      <td>...</td>\n",
       "      <td>...</td>\n",
       "      <td>...</td>\n",
       "      <td>...</td>\n",
       "      <td>...</td>\n",
       "      <td>...</td>\n",
       "      <td>...</td>\n",
       "      <td>...</td>\n",
       "      <td>...</td>\n",
       "      <td>...</td>\n",
       "      <td>...</td>\n",
       "    </tr>\n",
       "    <tr>\n",
       "      <th>17374</th>\n",
       "      <td>2012-12-31</td>\n",
       "      <td>17375</td>\n",
       "      <td>1</td>\n",
       "      <td>1</td>\n",
       "      <td>12</td>\n",
       "      <td>19</td>\n",
       "      <td>0</td>\n",
       "      <td>1</td>\n",
       "      <td>1</td>\n",
       "      <td>2</td>\n",
       "      <td>0.26</td>\n",
       "      <td>0.2576</td>\n",
       "      <td>0.6</td>\n",
       "      <td>0.1642</td>\n",
       "      <td>11</td>\n",
       "      <td>108</td>\n",
       "      <td>119</td>\n",
       "    </tr>\n",
       "    <tr>\n",
       "      <th>17375</th>\n",
       "      <td>2012-12-31</td>\n",
       "      <td>17376</td>\n",
       "      <td>1</td>\n",
       "      <td>1</td>\n",
       "      <td>12</td>\n",
       "      <td>20</td>\n",
       "      <td>0</td>\n",
       "      <td>1</td>\n",
       "      <td>1</td>\n",
       "      <td>2</td>\n",
       "      <td>0.26</td>\n",
       "      <td>0.2576</td>\n",
       "      <td>0.6</td>\n",
       "      <td>0.1642</td>\n",
       "      <td>8</td>\n",
       "      <td>81</td>\n",
       "      <td>89</td>\n",
       "    </tr>\n",
       "    <tr>\n",
       "      <th>17376</th>\n",
       "      <td>2012-12-31</td>\n",
       "      <td>17377</td>\n",
       "      <td>1</td>\n",
       "      <td>1</td>\n",
       "      <td>12</td>\n",
       "      <td>21</td>\n",
       "      <td>0</td>\n",
       "      <td>1</td>\n",
       "      <td>1</td>\n",
       "      <td>1</td>\n",
       "      <td>0.26</td>\n",
       "      <td>0.2576</td>\n",
       "      <td>0.6</td>\n",
       "      <td>0.1642</td>\n",
       "      <td>7</td>\n",
       "      <td>83</td>\n",
       "      <td>90</td>\n",
       "    </tr>\n",
       "    <tr>\n",
       "      <th>17377</th>\n",
       "      <td>2012-12-31</td>\n",
       "      <td>17378</td>\n",
       "      <td>1</td>\n",
       "      <td>1</td>\n",
       "      <td>12</td>\n",
       "      <td>22</td>\n",
       "      <td>0</td>\n",
       "      <td>1</td>\n",
       "      <td>1</td>\n",
       "      <td>1</td>\n",
       "      <td>0.26</td>\n",
       "      <td>0.2727</td>\n",
       "      <td>0.56</td>\n",
       "      <td>0.1343</td>\n",
       "      <td>13</td>\n",
       "      <td>48</td>\n",
       "      <td>61</td>\n",
       "    </tr>\n",
       "    <tr>\n",
       "      <th>17378</th>\n",
       "      <td>2012-12-31</td>\n",
       "      <td>17379</td>\n",
       "      <td>1</td>\n",
       "      <td>1</td>\n",
       "      <td>12</td>\n",
       "      <td>23</td>\n",
       "      <td>0</td>\n",
       "      <td>1</td>\n",
       "      <td>1</td>\n",
       "      <td>1</td>\n",
       "      <td>0.26</td>\n",
       "      <td>0.2727</td>\n",
       "      <td>0.65</td>\n",
       "      <td>0.1343</td>\n",
       "      <td>12</td>\n",
       "      <td>37</td>\n",
       "      <td>49</td>\n",
       "    </tr>\n",
       "  </tbody>\n",
       "</table>\n",
       "<p>17379 rows × 17 columns</p>\n",
       "</div>"
      ],
      "text/plain": [
       "         datetime rec_id season year month hour is_holiday weekday  \\\n",
       "0      2011-01-01      1      1    0     1    0          0       6   \n",
       "1      2011-01-01      2      1    0     1    1          0       6   \n",
       "2      2011-01-01      3      1    0     1    2          0       6   \n",
       "3      2011-01-01      4      1    0     1    3          0       6   \n",
       "4      2011-01-01      5      1    0     1    4          0       6   \n",
       "...           ...    ...    ...  ...   ...  ...        ...     ...   \n",
       "17374  2012-12-31  17375      1    1    12   19          0       1   \n",
       "17375  2012-12-31  17376      1    1    12   20          0       1   \n",
       "17376  2012-12-31  17377      1    1    12   21          0       1   \n",
       "17377  2012-12-31  17378      1    1    12   22          0       1   \n",
       "17378  2012-12-31  17379      1    1    12   23          0       1   \n",
       "\n",
       "      is_workingday weather_condition  temp   atemp humidity windspeed casual  \\\n",
       "0                 0                 1  0.24  0.2879     0.81       0.0      3   \n",
       "1                 0                 1  0.22  0.2727      0.8       0.0      8   \n",
       "2                 0                 1  0.22  0.2727      0.8       0.0      5   \n",
       "3                 0                 1  0.24  0.2879     0.75       0.0      3   \n",
       "4                 0                 1  0.24  0.2879     0.75       0.0      0   \n",
       "...             ...               ...   ...     ...      ...       ...    ...   \n",
       "17374             1                 2  0.26  0.2576      0.6    0.1642     11   \n",
       "17375             1                 2  0.26  0.2576      0.6    0.1642      8   \n",
       "17376             1                 1  0.26  0.2576      0.6    0.1642      7   \n",
       "17377             1                 1  0.26  0.2727     0.56    0.1343     13   \n",
       "17378             1                 1  0.26  0.2727     0.65    0.1343     12   \n",
       "\n",
       "      registered total_count  \n",
       "0             13          16  \n",
       "1             32          40  \n",
       "2             27          32  \n",
       "3             10          13  \n",
       "4              1           1  \n",
       "...          ...         ...  \n",
       "17374        108         119  \n",
       "17375         81          89  \n",
       "17376         83          90  \n",
       "17377         48          61  \n",
       "17378         37          49  \n",
       "\n",
       "[17379 rows x 17 columns]"
      ]
     },
     "execution_count": 7,
     "metadata": {},
     "output_type": "execute_result"
    }
   ],
   "source": [
    "df.toPandas()"
   ]
  },
  {
   "cell_type": "code",
   "execution_count": 9,
   "id": "8380d8c6",
   "metadata": {},
   "outputs": [
    {
     "data": {
      "text/plain": [
       "['datetime',\n",
       " 'rec_id',\n",
       " 'season',\n",
       " 'year',\n",
       " 'month',\n",
       " 'hour',\n",
       " 'is_holiday',\n",
       " 'weekday',\n",
       " 'is_workingday',\n",
       " 'weather_condition',\n",
       " 'temp',\n",
       " 'atemp',\n",
       " 'humidity',\n",
       " 'windspeed',\n",
       " 'casual',\n",
       " 'registered',\n",
       " 'total_count']"
      ]
     },
     "execution_count": 9,
     "metadata": {},
     "output_type": "execute_result"
    }
   ],
   "source": [
    "df.columns"
   ]
  },
  {
   "cell_type": "code",
   "execution_count": 10,
   "id": "842d1b73",
   "metadata": {},
   "outputs": [
    {
     "data": {
      "text/plain": [
       "17379"
      ]
     },
     "execution_count": 10,
     "metadata": {},
     "output_type": "execute_result"
    }
   ],
   "source": [
    "df.count()"
   ]
  },
  {
   "cell_type": "code",
   "execution_count": 11,
   "id": "cdc7c99f",
   "metadata": {},
   "outputs": [
    {
     "name": "stdout",
     "output_type": "stream",
     "text": [
      "+-------------------+\n",
      "|media de velocidade|\n",
      "+-------------------+\n",
      "| 0.1900976063064631|\n",
      "+-------------------+\n",
      "\n"
     ]
    }
   ],
   "source": [
    "df.agg(mean('windspeed').alias('media de velocidade')).show()"
   ]
  },
  {
   "cell_type": "code",
   "execution_count": 12,
   "id": "4781c660",
   "metadata": {},
   "outputs": [
    {
     "name": "stdout",
     "output_type": "stream",
     "text": [
      "+------------------+\n",
      "|        media temp|\n",
      "+------------------+\n",
      "|0.4969871684216586|\n",
      "+------------------+\n",
      "\n"
     ]
    }
   ],
   "source": [
    "df.agg(mean('temp').alias('media temp')).show()"
   ]
  },
  {
   "cell_type": "code",
   "execution_count": 13,
   "id": "9a6846b9",
   "metadata": {},
   "outputs": [],
   "source": [
    "df_questao_4 = df.filter(col('year') == 1)"
   ]
  },
  {
   "cell_type": "code",
   "execution_count": 14,
   "id": "96ff1943",
   "metadata": {},
   "outputs": [
    {
     "data": {
      "text/plain": [
       "8734"
      ]
     },
     "execution_count": 14,
     "metadata": {},
     "output_type": "execute_result"
    }
   ],
   "source": [
    "df_questao_4.count()"
   ]
  },
  {
   "cell_type": "code",
   "execution_count": 15,
   "id": "98d3eb2e",
   "metadata": {},
   "outputs": [],
   "source": [
    "df_questao_5 = df.filter(col('year') == 0)"
   ]
  },
  {
   "cell_type": "code",
   "execution_count": 16,
   "id": "3b79f45f",
   "metadata": {},
   "outputs": [
    {
     "data": {
      "text/plain": [
       "8645"
      ]
     },
     "execution_count": 16,
     "metadata": {},
     "output_type": "execute_result"
    }
   ],
   "source": [
    "df_questao_5.count()"
   ]
  },
  {
   "cell_type": "code",
   "execution_count": 18,
   "id": "2d9797ad",
   "metadata": {},
   "outputs": [
    {
     "name": "stdout",
     "output_type": "stream",
     "text": [
      "+--------------+\n",
      "|somatorio_2011|\n",
      "+--------------+\n",
      "|     2049576.0|\n",
      "+--------------+\n",
      "\n"
     ]
    }
   ],
   "source": [
    "df_questao_4.agg(sum('total_count').alias('somatorio_2011')).show()"
   ]
  },
  {
   "cell_type": "code",
   "execution_count": 19,
   "id": "154cb35f",
   "metadata": {},
   "outputs": [
    {
     "name": "stdout",
     "output_type": "stream",
     "text": [
      "+--------------+\n",
      "|somatorio_2012|\n",
      "+--------------+\n",
      "|     1243103.0|\n",
      "+--------------+\n",
      "\n"
     ]
    }
   ],
   "source": [
    "df_questao_5.agg(sum('total_count').alias('somatorio_2012')).show()"
   ]
  },
  {
   "cell_type": "code",
   "execution_count": 22,
   "id": "b2209d01",
   "metadata": {},
   "outputs": [
    {
     "name": "stdout",
     "output_type": "stream",
     "text": [
      "+------+------------------+\n",
      "|season|  avg(total_count)|\n",
      "+------+------------------+\n",
      "|     3|236.01623665480426|\n",
      "|     1|111.11456859971712|\n",
      "|     4|198.86885633270322|\n",
      "|     2|208.34406894987526|\n",
      "+------+------------------+\n",
      "\n"
     ]
    }
   ],
   "source": [
    "df_questao_8_9 = df.groupby('season').agg(mean('total_count')).show()"
   ]
  },
  {
   "cell_type": "code",
   "execution_count": 26,
   "id": "9c722354",
   "metadata": {},
   "outputs": [
    {
     "name": "stdout",
     "output_type": "stream",
     "text": [
      "+----+------------------+\n",
      "|hour|             media|\n",
      "+----+------------------+\n",
      "|   7| 212.0646492434663|\n",
      "|  15| 251.2331961591221|\n",
      "|  11| 208.1430536451169|\n",
      "|   3|11.727403156384504|\n",
      "|   8|359.01100412654745|\n",
      "|  22|131.33516483516485|\n",
      "|  16| 311.9835616438356|\n",
      "|   0| 53.89807162534435|\n",
      "|   5| 19.88981868898187|\n",
      "|  18|  425.510989010989|\n",
      "|  17|461.45205479452056|\n",
      "|   6| 76.04413793103448|\n",
      "|  19|311.52335164835165|\n",
      "|  23| 87.83104395604396|\n",
      "|   9|219.30949105914718|\n",
      "|   1|  33.3756906077348|\n",
      "|  20|226.03021978021977|\n",
      "|  10| 173.6685006877579|\n",
      "|   4| 6.352941176470588|\n",
      "|  12|253.31593406593407|\n",
      "+----+------------------+\n",
      "only showing top 20 rows\n",
      "\n"
     ]
    }
   ],
   "source": [
    "df_questao_10 = df.groupby('hour').agg(mean('total_count').alias('media')).show()"
   ]
  },
  {
   "cell_type": "code",
   "execution_count": 27,
   "id": "7508f8ad",
   "metadata": {},
   "outputs": [
    {
     "name": "stdout",
     "output_type": "stream",
     "text": [
      "+-------+------------------+\n",
      "|weekday|  avg(total_count)|\n",
      "+-------+------------------+\n",
      "|      3|191.13050505050506|\n",
      "|      0|177.46882494004797|\n",
      "|      5|196.13590671491758|\n",
      "|      6|190.20979299363057|\n",
      "|      1|183.74465510286404|\n",
      "|      4|196.43666531768514|\n",
      "|      2|191.23889115368937|\n",
      "+-------+------------------+\n",
      "\n"
     ]
    }
   ],
   "source": [
    "df_questao_11_12 = df.groupby('weekday').agg(mean('total_count')).show()"
   ]
  },
  {
   "cell_type": "code",
   "execution_count": 28,
   "id": "9cf5ad19",
   "metadata": {},
   "outputs": [],
   "source": [
    "df_questao_14 = df.filter(col('weekday') == 3)"
   ]
  },
  {
   "cell_type": "code",
   "execution_count": 35,
   "id": "00bb1204",
   "metadata": {},
   "outputs": [
    {
     "name": "stdout",
     "output_type": "stream",
     "text": [
      "+----+------------------+\n",
      "|hour|       media_day_3|\n",
      "+----+------------------+\n",
      "|  17| 513.1442307692307|\n",
      "|  18|494.02912621359224|\n",
      "|   8| 488.3269230769231|\n",
      "|  19|357.50485436893206|\n",
      "|   7| 303.9807692307692|\n",
      "|  16|272.96153846153845|\n",
      "|  20| 256.6601941747573|\n",
      "|   9|238.52884615384616|\n",
      "|  21|194.66990291262135|\n",
      "|  12|193.90384615384616|\n",
      "|  13|185.82692307692307|\n",
      "|  15|181.28846153846155|\n",
      "|  14|170.54807692307693|\n",
      "|  11|152.20192307692307|\n",
      "|  22| 143.6893203883495|\n",
      "|  10|131.89423076923077|\n",
      "|   6| 107.8076923076923|\n",
      "|  23|  83.7378640776699|\n",
      "|   0| 34.55769230769231|\n",
      "|   5|             25.75|\n",
      "+----+------------------+\n",
      "only showing top 20 rows\n",
      "\n"
     ]
    }
   ],
   "source": [
    "df_questao_14.groupby('hour').agg(mean('total_count').alias('media_day_3')).orderBy(col('media_day_3').desc()).show()"
   ]
  },
  {
   "cell_type": "code",
   "execution_count": 36,
   "id": "75f7625a",
   "metadata": {},
   "outputs": [],
   "source": [
    "df_questao_15 = df.filter(col('weekday') == 6)"
   ]
  },
  {
   "cell_type": "code",
   "execution_count": 37,
   "id": "6653c6fe",
   "metadata": {},
   "outputs": [
    {
     "name": "stdout",
     "output_type": "stream",
     "text": [
      "+----+------------------+\n",
      "|hour|       media_day_6|\n",
      "+----+------------------+\n",
      "|  13|385.37142857142857|\n",
      "|  15|382.42857142857144|\n",
      "|  14| 381.3333333333333|\n",
      "|  12| 375.3809523809524|\n",
      "|  16|366.14285714285717|\n",
      "|  17| 334.4095238095238|\n",
      "|  11| 328.6095238095238|\n",
      "|  18| 292.0480769230769|\n",
      "|  10| 263.7238095238095|\n",
      "|  19|239.93269230769232|\n",
      "|   9| 186.7904761904762|\n",
      "|  20| 180.8653846153846|\n",
      "|  21|             156.0|\n",
      "|  22|139.66346153846155|\n",
      "|  23|115.85576923076923|\n",
      "|   8|114.47619047619048|\n",
      "|   0|  94.3047619047619|\n",
      "|   1| 67.78095238095239|\n",
      "|   2| 50.49523809523809|\n",
      "|   7| 45.96190476190476|\n",
      "+----+------------------+\n",
      "only showing top 20 rows\n",
      "\n"
     ]
    }
   ],
   "source": [
    "df_questao_15.groupby('hour').agg(mean('total_count').alias('media_day_6')).orderBy(col('media_day_6').desc()).show()"
   ]
  },
  {
   "cell_type": "code",
   "execution_count": null,
   "id": "40e3111d",
   "metadata": {},
   "outputs": [],
   "source": []
  }
 ],
 "metadata": {
  "kernelspec": {
   "display_name": "Python 3",
   "language": "python",
   "name": "python3"
  },
  "language_info": {
   "codemirror_mode": {
    "name": "ipython",
    "version": 3
   },
   "file_extension": ".py",
   "mimetype": "text/x-python",
   "name": "python",
   "nbconvert_exporter": "python",
   "pygments_lexer": "ipython3",
   "version": "3.8.8"
  }
 },
 "nbformat": 4,
 "nbformat_minor": 5
}
